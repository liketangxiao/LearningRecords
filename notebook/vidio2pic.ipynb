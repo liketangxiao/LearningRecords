{
 "metadata": {
  "language_info": {
   "codemirror_mode": {
    "name": "ipython",
    "version": 3
   },
   "file_extension": ".py",
   "mimetype": "text/x-python",
   "name": "python",
   "nbconvert_exporter": "python",
   "pygments_lexer": "ipython3",
   "version": "3.7.4-final"
  },
  "orig_nbformat": 2,
  "kernelspec": {
   "name": "python_defaultSpec_1598608642754",
   "display_name": "Python 3.7.4 64-bit ('base': conda)"
  }
 },
 "nbformat": 4,
 "nbformat_minor": 2,
 "cells": [
  {
   "cell_type": "code",
   "execution_count": 1,
   "metadata": {},
   "outputs": [
    {
     "output_type": "error",
     "ename": "SyntaxError",
     "evalue": "invalid syntax (<ipython-input-1-b9f1d58dc020>, line 1)",
     "traceback": [
      "\u001b[1;36m  File \u001b[1;32m\"<ipython-input-1-b9f1d58dc020>\"\u001b[1;36m, line \u001b[1;32m1\u001b[0m\n\u001b[1;33m    pip3 install -r video2frame/install/pip-requirements.txt\u001b[0m\n\u001b[1;37m               ^\u001b[0m\n\u001b[1;31mSyntaxError\u001b[0m\u001b[1;31m:\u001b[0m invalid syntax\n"
     ]
    }
   ],
   "source": [
    "pip install -r video2frame/install/pip-requirements.txt"
   ]
  },
  {
   "cell_type": "code",
   "execution_count": 1,
   "metadata": {
    "tags": []
   },
   "outputs": [
    {
     "output_type": "stream",
     "name": "stdout",
     "text": "\nNote: you may need to restart the kernel to use updated packages.\nusage: conda-script.py [-h] [-V] command ...\nconda-script.py: error: argument command: invalid choice: 'video2frame/video2frame.py' (choose from 'clean', 'compare', 'config', 'create', 'help', 'info', 'init', 'install', 'list', 'package', 'remove', 'uninstall', 'run', 'search', 'update', 'upgrade')\n"
    }
   ],
   "source": [
    "conda video2frame/video2frame.py dataset.json\n"
   ]
  },
  {
   "cell_type": "code",
   "execution_count": 4,
   "metadata": {
    "tags": []
   },
   "outputs": [
    {
     "output_type": "stream",
     "name": "stdout",
     "text": "\n## Package Plan ##\n\n  environment location: D:\\Program\\Anaconda3\\envs\\test\n\n\nThe following packages will be REMOVED:\n\n  ca-certificates-2019.11.28-hecc5488_0\n  certifi-2019.11.28-py37_0\n  openssl-1.1.1d-hfa6e2cd_0\n  pip-19.3.1-py37_0\n  python-3.7.3-h510b542_1\n  setuptools-42.0.2-py37_0\n  sqlite-3.30.1-hfa6e2cd_0\n  vc-14-0\n  vs2015_runtime-14.0.25420-0\n  wheel-0.33.6-py37_0\n  wincertstore-0.2-py37_1003\n\n\nPreparing transaction: ...working... done\nVerifying transaction: ...working... done\nExecuting transaction: ...working... done\n\nNote: you may need to restart the kernel to use updated packages.\n\nRemove all packages in environment D:\\Program\\Anaconda3\\envs\\test:\n\n"
    }
   ],
   "source": [
    "conda remove -n test --all"
   ]
  },
  {
   "cell_type": "code",
   "execution_count": 3,
   "metadata": {
    "tags": []
   },
   "outputs": [
    {
     "output_type": "stream",
     "name": "stdout",
     "text": "# conda environments:\n#\nbase                  *  D:\\Program\\Anaconda3\ntest                     D:\\Program\\Anaconda3\\envs\\test\n\n\nNote: you may need to restart the kernel to use updated packages.\n"
    }
   ],
   "source": [
    "conda info -e\n"
   ]
  },
  {
   "cell_type": "code",
   "execution_count": null,
   "metadata": {},
   "outputs": [],
   "source": []
  }
 ]
}